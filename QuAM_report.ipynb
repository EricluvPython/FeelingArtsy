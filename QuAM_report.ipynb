{
 "cells": [
  {
   "cell_type": "markdown",
   "id": "54a6a768-6940-4b2d-86b8-256c814e11f0",
   "metadata": {},
   "source": [
    "# D3: Query Answering Machine"
   ]
  },
  {
   "cell_type": "markdown",
   "id": "ca9c30e1-1838-4e6f-a325-34782aada516",
   "metadata": {},
   "source": [
    "Id | Category     | Value | Description \n",
    "--|:---------:|:-----------:|:-----------:\n",
    "1|Name      | <i><b>Eric Gao | I'm working alone\n",
    "2|Andrew ID   | <i><b>jingxia3 | My Andrew ID\n",
    "3|Project Name | <i><b>Feeling Artsy | Extracting human emotions with CV techniques"
   ]
  },
  {
   "cell_type": "markdown",
   "id": "a0e5d21d-1f33-49b6-bae8-e85b5560f2cf",
   "metadata": {},
   "source": [
    "Below are some general things I've tried before you see what's in this document:\n",
    "\n",
    "1. I initially used 4 classes. The accuracy are the same as random guessing. I merged image classes to increase the sample size for each class. <br>\n",
    "\n",
    "1. I initially had only 9 features. The training outcomes are not so ideal. I used polynomial features of them. <br>\n",
    "\n",
    "1. I initially had very small estimators for ensemble, resulting in poor testing accuracy for Random Forest. I made the estimator larger. <br>\n",
    "\n",
    "1. I initially had a big gap for CNN. I reduced batch size and increased epochs."
   ]
  },
  {
   "cell_type": "markdown",
   "id": "fc21a66c-432f-4b08-bfda-266446f2185d",
   "metadata": {},
   "source": [
    "In this section, I chose the following models for my classification task:\n",
    "* kNN\n",
    "* Random Forest\n",
    "* Convolutional Neural Network"
   ]
  },
  {
   "cell_type": "markdown",
   "id": "b83cdec6-d4fc-4a2f-a7fc-0914c2b791a6",
   "metadata": {},
   "source": [
    "## D3.1: Process Iterations"
   ]
  },
  {
   "cell_type": "markdown",
   "id": "c3aeebc2-3871-47de-b1aa-f21ccd05b17c",
   "metadata": {},
   "source": [
    "I first changed the kernal to DataPreparation kernal to migrate the prepared dataset to here."
   ]
  },
  {
   "cell_type": "code",
   "execution_count": 112,
   "id": "919a5466-9ba3-4799-9189-b4d3602debb7",
   "metadata": {},
   "outputs": [
    {
     "name": "stdout",
     "output_type": "stream",
     "text": [
      "<class 'pandas.core.frame.DataFrame'>\n",
      "RangeIndex: 805 entries, 0 to 804\n",
      "Data columns (total 71 columns):\n",
      " #   Column       Non-Null Count  Dtype  \n",
      "---  ------       --------------  -----  \n",
      " 0   ID           805 non-null    object \n",
      " 1   image        805 non-null    object \n",
      " 2   red          805 non-null    object \n",
      " 3   green        805 non-null    object \n",
      " 4   blue         805 non-null    object \n",
      " 5   rvar         805 non-null    float64\n",
      " 6   gvar         805 non-null    float64\n",
      " 7   bvar         805 non-null    float64\n",
      " 8   rskew        805 non-null    float64\n",
      " 9   gskew        805 non-null    float64\n",
      " 10  bskew        805 non-null    float64\n",
      " 11  rkurt        805 non-null    float64\n",
      " 12  gkurt        805 non-null    float64\n",
      " 13  bkurt        805 non-null    float64\n",
      " 14  1            805 non-null    float64\n",
      " 15  rvar         805 non-null    float64\n",
      " 16  gvar         805 non-null    float64\n",
      " 17  bvar         805 non-null    float64\n",
      " 18  rskew        805 non-null    float64\n",
      " 19  gskew        805 non-null    float64\n",
      " 20  bskew        805 non-null    float64\n",
      " 21  rkurt        805 non-null    float64\n",
      " 22  gkurt        805 non-null    float64\n",
      " 23  bkurt        805 non-null    float64\n",
      " 24  rvar^2       805 non-null    float64\n",
      " 25  rvar gvar    805 non-null    float64\n",
      " 26  rvar bvar    805 non-null    float64\n",
      " 27  rvar rskew   805 non-null    float64\n",
      " 28  rvar gskew   805 non-null    float64\n",
      " 29  rvar bskew   805 non-null    float64\n",
      " 30  rvar rkurt   805 non-null    float64\n",
      " 31  rvar gkurt   805 non-null    float64\n",
      " 32  rvar bkurt   805 non-null    float64\n",
      " 33  gvar^2       805 non-null    float64\n",
      " 34  gvar bvar    805 non-null    float64\n",
      " 35  gvar rskew   805 non-null    float64\n",
      " 36  gvar gskew   805 non-null    float64\n",
      " 37  gvar bskew   805 non-null    float64\n",
      " 38  gvar rkurt   805 non-null    float64\n",
      " 39  gvar gkurt   805 non-null    float64\n",
      " 40  gvar bkurt   805 non-null    float64\n",
      " 41  bvar^2       805 non-null    float64\n",
      " 42  bvar rskew   805 non-null    float64\n",
      " 43  bvar gskew   805 non-null    float64\n",
      " 44  bvar bskew   805 non-null    float64\n",
      " 45  bvar rkurt   805 non-null    float64\n",
      " 46  bvar gkurt   805 non-null    float64\n",
      " 47  bvar bkurt   805 non-null    float64\n",
      " 48  rskew^2      805 non-null    float64\n",
      " 49  rskew gskew  805 non-null    float64\n",
      " 50  rskew bskew  805 non-null    float64\n",
      " 51  rskew rkurt  805 non-null    float64\n",
      " 52  rskew gkurt  805 non-null    float64\n",
      " 53  rskew bkurt  805 non-null    float64\n",
      " 54  gskew^2      805 non-null    float64\n",
      " 55  gskew bskew  805 non-null    float64\n",
      " 56  gskew rkurt  805 non-null    float64\n",
      " 57  gskew gkurt  805 non-null    float64\n",
      " 58  gskew bkurt  805 non-null    float64\n",
      " 59  bskew^2      805 non-null    float64\n",
      " 60  bskew rkurt  805 non-null    float64\n",
      " 61  bskew gkurt  805 non-null    float64\n",
      " 62  bskew bkurt  805 non-null    float64\n",
      " 63  rkurt^2      805 non-null    float64\n",
      " 64  rkurt gkurt  805 non-null    float64\n",
      " 65  rkurt bkurt  805 non-null    float64\n",
      " 66  gkurt^2      805 non-null    float64\n",
      " 67  gkurt bkurt  805 non-null    float64\n",
      " 68  bkurt^2      805 non-null    float64\n",
      " 69  HOG          805 non-null    object \n",
      " 70  label        805 non-null    int64  \n",
      "dtypes: float64(64), int64(1), object(6)\n",
      "memory usage: 446.6+ KB\n"
     ]
    }
   ],
   "source": [
    "df.info()"
   ]
  },
  {
   "cell_type": "code",
   "execution_count": 113,
   "id": "f81647f1-b404-459f-ba2a-63c5cdbe868b",
   "metadata": {},
   "outputs": [
    {
     "name": "stdout",
     "output_type": "stream",
     "text": [
      "<class 'pandas.core.frame.DataFrame'>\n",
      "RangeIndex: 805 entries, 0 to 804\n",
      "Columns: 10000 entries, 0 to 9999\n",
      "dtypes: float64(10000)\n",
      "memory usage: 61.4 MB\n"
     ]
    },
    {
     "data": {
      "text/plain": [
       "((805, 10000), None)"
      ]
     },
     "execution_count": 113,
     "metadata": {},
     "output_type": "execute_result"
    }
   ],
   "source": [
    "hogdf = pd.DataFrame([np.hstack(i) for i in df['HOG']])\n",
    "hogdf.shape,hogdf.info()"
   ]
  },
  {
   "cell_type": "code",
   "execution_count": 114,
   "id": "9ee240f5-f159-4832-9328-0f604c87d0ea",
   "metadata": {},
   "outputs": [],
   "source": [
    "# import warnings filter\n",
    "from warnings import simplefilter\n",
    "# ignore all future warnings\n",
    "simplefilter(action='ignore', category=FutureWarning)"
   ]
  },
  {
   "cell_type": "markdown",
   "id": "69ad0bcd-e8a6-4652-87cb-5acb6485f388",
   "metadata": {},
   "source": [
    "### Iteration 1: KNN"
   ]
  },
  {
   "cell_type": "markdown",
   "id": "0a97750f-d3b1-4f55-9410-1a9f8ed793af",
   "metadata": {},
   "source": [
    "We humans often see emotions in images by relating them to similar images. For example, when looking at something with very bright colors, we might think it's happy because it relates to the fireworks we see."
   ]
  },
  {
   "cell_type": "markdown",
   "id": "cc6e8399-3317-4921-9613-1c9ec228332f",
   "metadata": {},
   "source": [
    "As such, K Nearest Neighbors (KNN) model can be applied to perform this classification task. It is a non-parametric model that classifies data by considering its k closest neighbors. It falls under the supervised learning category, so our label can be useful."
   ]
  },
  {
   "cell_type": "markdown",
   "id": "8040489c-a8a0-441d-bdcf-5a9eef154e8a",
   "metadata": {},
   "source": [
    "Below I define some basic functions and import some libraries."
   ]
  },
  {
   "cell_type": "code",
   "execution_count": 115,
   "id": "857dfe89-be0a-4d15-b99e-1588cc427bbc",
   "metadata": {},
   "outputs": [],
   "source": [
    "from sklearn.model_selection import cross_validate\n",
    "from sklearn.neighbors import KNeighborsClassifier\n",
    "from sklearn import metrics\n",
    "def learn_kNN_classifier(features_data, targets, neighbors, voting):\n",
    "    '''Set up a K-NN classifier and fits it to the given training data.\n",
    "       Return: learned classifier.''' \n",
    "    \n",
    "    classifier = KNeighborsClassifier(n_neighbors=neighbors, \n",
    "                                      weights=voting\n",
    "                                      )\n",
    "    classifier.fit(features_data, targets)\n",
    "    \n",
    "    return classifier"
   ]
  },
  {
   "cell_type": "markdown",
   "id": "b324f6e8-79cf-4bf8-9edb-a89e36c50da3",
   "metadata": {},
   "source": [
    "Below I define features and labels for training"
   ]
  },
  {
   "cell_type": "code",
   "execution_count": 116,
   "id": "0d5765a5-0c78-45a2-a18a-2f2799e5084c",
   "metadata": {},
   "outputs": [],
   "source": [
    "features = pd.concat([df.iloc[:,5:69],hogdf],axis=1)\n",
    "labels = df['label']\n",
    "features.columns = features.columns.astype(str)"
   ]
  },
  {
   "cell_type": "markdown",
   "id": "d35543ec-3c2d-485d-8ce1-9cb0966e8a35",
   "metadata": {},
   "source": [
    "Below I use cross-validation to find the best k for kNN."
   ]
  },
  {
   "cell_type": "code",
   "execution_count": 117,
   "id": "2ecef6a9-0e3e-4034-9107-05781559da04",
   "metadata": {},
   "outputs": [
    {
     "name": "stdout",
     "output_type": "stream",
     "text": [
      "[2-NN] Mean test score: 0.607 (std: 0.071)\n",
      "Mean train score: 0.876 (std: 0.009)\n",
      "\n",
      "[3-NN] Mean test score: 0.617 (std: 0.072)\n",
      "Mean train score: 0.841 (std: 0.008)\n",
      "\n",
      "[4-NN] Mean test score: 0.597 (std: 0.065)\n",
      "Mean train score: 0.775 (std: 0.011)\n",
      "\n",
      "[5-NN] Mean test score: 0.629 (std: 0.050)\n",
      "Mean train score: 0.766 (std: 0.010)\n",
      "\n",
      "[7-NN] Mean test score: 0.610 (std: 0.061)\n",
      "Mean train score: 0.740 (std: 0.013)\n",
      "\n",
      "[8-NN] Mean test score: 0.583 (std: 0.059)\n",
      "Mean train score: 0.728 (std: 0.015)\n",
      "\n",
      "[9-NN] Mean test score: 0.590 (std: 0.056)\n",
      "Mean train score: 0.708 (std: 0.011)\n",
      "\n"
     ]
    }
   ],
   "source": [
    "from sklearn import metrics\n",
    "\n",
    "k_fold = 10\n",
    "\n",
    "for k in [2,3,4,5,6,7,8,9]:\n",
    "\n",
    "    classifier = learn_kNN_classifier(features, \n",
    "                                      labels, \n",
    "                                      k, \n",
    "                                      'uniform')\n",
    "\n",
    "    # if not specified either, K-Fold is the default CV method\n",
    "    # and the cv argument specifies the number of foldings\n",
    "    cv_results = cross_validate(classifier, features, labels, \n",
    "                                cv=k_fold,\n",
    "                                return_train_score=True)\n",
    "\n",
    "    print('[{}-NN] Mean test score: {:.3f} (std: {:.3f})'\n",
    "          '\\nMean train score: {:.3f} (std: {:.3f})\\n'.format(k,\n",
    "                                                  np.mean(cv_results['test_score']),\n",
    "                                                  np.std(cv_results['test_score']),\n",
    "                                                  np.mean(cv_results['train_score']),\n",
    "                                                  np.std(cv_results['train_score'])))"
   ]
  },
  {
   "cell_type": "markdown",
   "id": "424595ff-fa83-4fb8-8040-44718e306b0b",
   "metadata": {},
   "source": [
    "The accuracies are a bit low. As k=5 has relatively the highest test and train scores, I would go with k=5 as the best one. Below is the confusion matrix."
   ]
  },
  {
   "cell_type": "code",
   "execution_count": 118,
   "id": "36feae23-3eb5-4f4d-8e42-145f8dd4e18a",
   "metadata": {},
   "outputs": [
    {
     "data": {
      "image/png": "[encoded data removed]",
      "text/plain": [
       "<Figure size 1260x450 with 2 Axes>"
      ]
     },
     "metadata": {},
     "output_type": "display_data"
    }
   ],
   "source": [
    "classifier = learn_kNN_classifier(features, \n",
    "                                  labels, \n",
    "                                  5, \n",
    "                                  'uniform')\n",
    "Y_pred = classifier.predict(features)\n",
    "\n",
    "from sklearn.metrics import confusion_matrix\n",
    "import seaborn as sns\n",
    "\n",
    "def show_confusion_matrix(true_labels, learned_labels, class_names):\n",
    "\n",
    "    cmat = confusion_matrix(true_labels, learned_labels) \n",
    "\n",
    "    plt.figure(figsize=(14, 5))\n",
    "\n",
    "    plt.tick_params(labelsize=8)\n",
    "\n",
    "    \n",
    "    hm = sns.heatmap(cmat.T, square=True, annot=True, fmt='d', cbar=True,\n",
    "                     xticklabels=class_names,\n",
    "                     yticklabels=class_names, \n",
    "                     cmap=\"seismic\", \n",
    "                     annot_kws={\"size\":12}, cbar_kws={'label': 'Counts'})\n",
    "\n",
    "    # this is to set the last axis of the figure, the colorbar in this case\n",
    "    hm.figure.axes[-1].yaxis.label.set_size(10) # fontsize of bar label\n",
    "    hm.figure.axes[-1].tick_params(labelsize=8) # fontsize of ticks labels\n",
    "    \n",
    "    #plt.ylim(10, 0)\n",
    "\n",
    "    plt.xlabel('True label', fontsize=9)\n",
    "    plt.ylabel('Predicted label', fontsize=9)\n",
    "    \n",
    "    plt.show()\n",
    "\n",
    "show_confusion_matrix(labels, Y_pred, [0, 1])"
   ]
  },
  {
   "cell_type": "markdown",
   "id": "45d4ea10-3c72-40a3-9ea3-9041b5583470",
   "metadata": {},
   "source": [
    "And because the low accuracy in both training and testing, this suggest that the model is too weak, and I'll considering using a stronger model."
   ]
  },
  {
   "cell_type": "markdown",
   "id": "e1fefede-efca-4115-8a86-370cb1de2531",
   "metadata": {},
   "source": [
    "Recall that there were around 350 images with class 0 and 450 images with class 1. It's expected that the model does better at recognizing class 1 images."
   ]
  },
  {
   "cell_type": "markdown",
   "id": "df0f1f26-7004-4157-8f57-0a2c735709e7",
   "metadata": {},
   "source": [
    "In sum, KNN seems to be doing a decent job with maximum accuracy around 0.67. Can we do better with another classifier?"
   ]
  },
  {
   "cell_type": "markdown",
   "id": "eef7a624-73ad-4c06-9562-833f700d3963",
   "metadata": {},
   "source": [
    "### Iteration 2: Random Forest"
   ]
  },
  {
   "cell_type": "markdown",
   "id": "6d8a8daa-f42d-442e-8ba6-45a54f542a33",
   "metadata": {},
   "source": [
    "Let's see what Random Forest does for us."
   ]
  },
  {
   "cell_type": "markdown",
   "id": "95840bf5-280c-467f-9840-28233fc52520",
   "metadata": {},
   "source": [
    "As we see form KNN (which was a weak model for the task), it's better to use ensemble method to increase the model complexity in order to achieve better performance."
   ]
  },
  {
   "cell_type": "markdown",
   "id": "8edabda4-0e76-4878-84f5-edfcb944ac19",
   "metadata": {},
   "source": [
    "Random Forest is such an ensemble method that uses a bunch of decision tree models. For a decision tree, each internal node contains a criteria for subdividing samples from its parents. On its leaves, there would be labels that correspond to outcomes. In this case, we use a classification tree."
   ]
  },
  {
   "cell_type": "code",
   "execution_count": 278,
   "id": "8b41ec02-464d-49f2-83ca-d1782ff0ec96",
   "metadata": {},
   "outputs": [
    {
     "name": "stdout",
     "output_type": "stream",
     "text": [
      "[Random Forest of depth 5] Mean test score: 0.614 (std: 0.047)\n",
      "Mean train score: 0.880 (std: 0.014)\n",
      "Time elapsed: 88.45 seconds\n",
      "\n",
      "[Random Forest of depth 7] Mean test score: 0.647 (std: 0.036)\n",
      "Mean train score: 0.894 (std: 0.009)\n",
      "Time elapsed: 99.60 seconds\n",
      "\n",
      "[Random Forest of depth 9] Mean test score: 0.624 (std: 0.042)\n",
      "Mean train score: 0.899 (std: 0.006)\n",
      "Time elapsed: 102.45 seconds\n",
      "\n"
     ]
    }
   ],
   "source": [
    "from sklearn.tree import DecisionTreeClassifier\n",
    "\n",
    "k_fold = 10\n",
    "max_samples  = 0.3 # small sample size to reduce calculation\n",
    "max_features = 0.7 # fewer features selected to increase diversity\n",
    "n_estimators = 21 # that's how it's a forest\n",
    "\n",
    "for depth in [5,7,9]:\n",
    "    start = time.time()\n",
    "    base = DecisionTreeClassifier(criterion='gini', max_depth=depth,\n",
    "                                random_state=15288)\n",
    "    classifier = BaggingClassifier(base, n_estimators=n_estimators,\n",
    "                            max_samples=max_samples, max_features=max_features,\n",
    "                            random_state=15288)\n",
    "\n",
    "    cv_results = cross_validate(classifier, features, labels, \n",
    "                                cv=k_fold,\n",
    "                                return_train_score=True)\n",
    "\n",
    "    print('[Random Forest of depth {}] Mean test score: {:.3f} (std: {:.3f})'\n",
    "          '\\nMean train score: {:.3f} (std: {:.3f})'.format(depth,\n",
    "                                                  np.mean(cv_results['test_score']),\n",
    "                                                  np.std(cv_results['test_score']),\n",
    "                                                  np.mean(cv_results['train_score']),\n",
    "                                                  np.std(cv_results['train_score'])))\n",
    "    print('Time elapsed: {:.2f} seconds\\n'.format(time.time()-start))"
   ]
  },
  {
   "cell_type": "markdown",
   "id": "d572062c-9c0e-4d0b-874c-62e098552ed8",
   "metadata": {},
   "source": [
    "After some cross validation, max depth of 7 seems to be the most optimal. Let's see its confusion matrix."
   ]
  },
  {
   "cell_type": "code",
   "execution_count": 279,
   "id": "e144b513-4903-4366-8b33-56426d7e77ea",
   "metadata": {},
   "outputs": [
    {
     "data": {
      "image/png": "[encoded data removed]",
      "text/plain": [
       "<Figure size 1260x450 with 2 Axes>"
      ]
     },
     "metadata": {},
     "output_type": "display_data"
    }
   ],
   "source": [
    "base = DecisionTreeClassifier(criterion='gini', max_depth=7,\n",
    "                              random_state=15288)\n",
    "classifier = BaggingClassifier(base, n_estimators=n_estimators,\n",
    "                        max_samples=max_samples, max_features=max_features,\n",
    "                        random_state=15288)\n",
    "classifier.fit(features,labels)\n",
    "Y_pred = classifier.predict(features)\n",
    "\n",
    "show_confusion_matrix(labels, Y_pred, [0, 1])"
   ]
  },
  {
   "cell_type": "markdown",
   "id": "eda50743-0cf3-43ab-8bed-c1d43119a545",
   "metadata": {},
   "source": [
    "For Random Forest, the confusion matrix looks a lot better than the kNN. However, the generalization error is around the same as that of kNN. Considering Decision Tree to be a more complex model than kNN, there might be risks of overfitting."
   ]
  },
  {
   "cell_type": "markdown",
   "id": "b5ed1ace-e6a8-47d9-9440-c98acc0e5b47",
   "metadata": {},
   "source": [
    "### Iteration 3: CNN"
   ]
  },
  {
   "cell_type": "markdown",
   "id": "2c39a929-f3d9-4938-8896-e74334a8e1fa",
   "metadata": {},
   "source": [
    "From the previous two attempts, we often find the model to be too weak to identify the subtle emotions in images."
   ]
  },
  {
   "cell_type": "markdown",
   "id": "bd6f5c18-3f0b-4497-880a-a9d953fc566b",
   "metadata": {},
   "source": [
    "Let's see if the all-powerful CNN create miracles. Convolutional Neural Network is commonly used for image related tasks, so I think it could be useful here."
   ]
  },
  {
   "cell_type": "code",
   "execution_count": 128,
   "id": "53b9795b-5eed-4cd2-b4a5-65956b923c69",
   "metadata": {},
   "outputs": [],
   "source": [
    "import time\n",
    "from time import process_time \n",
    "import keras\n",
    "from keras.models import Sequential\n",
    "from keras.layers import Dense, Dropout, Activation, Flatten, Conv2D, MaxPooling2D\n",
    "from keras.utils import np_utils\n",
    "import tensorflow as tf\n",
    "tf.random.set_seed(15288)"
   ]
  },
  {
   "cell_type": "code",
   "execution_count": 129,
   "id": "6f09872e-c00d-4f10-9987-a8bc2e570f41",
   "metadata": {},
   "outputs": [
    {
     "name": "stdout",
     "output_type": "stream",
     "text": [
      "Model: \"sequential_13\"\n",
      "_________________________________________________________________\n",
      " Layer (type)                Output Shape              Param #   \n",
      "=================================================================\n",
      " conv2d_51 (Conv2D)          (None, 94, 94, 128)       18944     \n",
      "                                                                 \n",
      " conv2d_52 (Conv2D)          (None, 90, 90, 64)        204864    \n",
      "                                                                 \n",
      " conv2d_53 (Conv2D)          (None, 88, 88, 64)        36928     \n",
      "                                                                 \n",
      " max_pooling2d_17 (MaxPoolin  (None, 29, 29, 64)       0         \n",
      " g2D)                                                            \n",
      "                                                                 \n",
      " dropout_31 (Dropout)        (None, 29, 29, 64)        0         \n",
      "                                                                 \n",
      " flatten_13 (Flatten)        (None, 53824)             0         \n",
      "                                                                 \n",
      " dense_73 (Dense)            (None, 256)               13779200  \n",
      "                                                                 \n",
      " dense_74 (Dense)            (None, 128)               32896     \n",
      "                                                                 \n",
      " dense_75 (Dense)            (None, 128)               16512     \n",
      "                                                                 \n",
      " dense_76 (Dense)            (None, 128)               16512     \n",
      "                                                                 \n",
      " dense_77 (Dense)            (None, 64)                8256      \n",
      "                                                                 \n",
      " dropout_32 (Dropout)        (None, 64)                0         \n",
      "                                                                 \n",
      " dense_78 (Dense)            (None, 2)                 130       \n",
      "                                                                 \n",
      "=================================================================\n",
      "Total params: 14,114,242\n",
      "Trainable params: 14,114,242\n",
      "Non-trainable params: 0\n",
      "_________________________________________________________________\n"
     ]
    }
   ],
   "source": [
    "model = Sequential()\n",
    "\n",
    "# input layer\n",
    "model.add(Conv2D(128,kernel_size=(7,7),input_shape=(100,100,3),activation='relu'))\n",
    "\n",
    "# convolutional layer\n",
    "model.add(Conv2D(64, kernel_size=(5,5), activation='relu'))\n",
    "model.add(Conv2D(64, kernel_size=(3,3), activation='relu'))\n",
    "model.add(MaxPooling2D(pool_size=(3,3)))\n",
    "model.add(Dropout(0.2))\n",
    "\n",
    "# flatten output of conv\n",
    "model.add(Flatten())\n",
    "\n",
    "# hidden layer\n",
    "model.add(Dense(256, activation='relu'))\n",
    "model.add(Dense(128, activation='relu'))\n",
    "model.add(Dense(128, activation='relu'))\n",
    "model.add(Dense(128, activation='relu'))\n",
    "model.add(Dense(64, activation='relu'))\n",
    "model.add(Dropout(0.2))\n",
    "# output layer\n",
    "model.add(Dense(2, activation='softmax'))\n",
    "model.summary()"
   ]
  },
  {
   "cell_type": "markdown",
   "id": "1bc08f74-0bd8-44c7-ac84-06550b232ba0",
   "metadata": {},
   "source": [
    "14 million parameters! Let's see how the model performs."
   ]
  },
  {
   "cell_type": "code",
   "execution_count": 130,
   "id": "d5eef241-86cd-4718-9216-2837d288332a",
   "metadata": {},
   "outputs": [],
   "source": [
    "model.compile(loss='categorical_crossentropy', \n",
    "              optimizer='adam', metrics=['accuracy'])"
   ]
  },
  {
   "cell_type": "code",
   "execution_count": 131,
   "id": "da41dac9-5fbb-45ce-83b9-e63e9eeb1bd6",
   "metadata": {},
   "outputs": [
    {
     "data": {
      "text/plain": [
       "((644, 100, 100, 3), (161, 100, 100, 3), (644, 2), (161, 2))"
      ]
     },
     "execution_count": 131,
     "metadata": {},
     "output_type": "execute_result"
    }
   ],
   "source": [
    "from sklearn.model_selection import train_test_split\n",
    "X_train, X_test, Y_train, Y_test = train_test_split(df['image'], df['label'], \n",
    "                                                    test_size=0.2, random_state=15288)\n",
    "img_shape = (100, 100, 3)\n",
    "\n",
    "X_train = np.array([x.reshape(img_shape) for x in X_train])\n",
    "X_test = np.array([x.reshape(img_shape) for x in X_test])\n",
    "Y_train = np_utils.to_categorical(Y_train, 2)\n",
    "Y_test = np_utils.to_categorical(Y_test, 2)\n",
    "X_train.shape,X_test.shape,Y_train.shape,Y_test.shape"
   ]
  },
  {
   "cell_type": "code",
   "execution_count": 132,
   "id": "c6c3c978-91a0-40ea-98f5-b3cdf40acc2e",
   "metadata": {},
   "outputs": [
    {
     "name": "stdout",
     "output_type": "stream",
     "text": [
      "Epoch 1/20\n",
      "11/11 - 22s - loss: 20.7779 - accuracy: 0.4783 - val_loss: 0.8017 - val_accuracy: 0.4037 - 22s/epoch - 2s/step\n",
      "Epoch 2/20\n",
      "11/11 - 20s - loss: 0.7144 - accuracy: 0.5093 - val_loss: 0.6915 - val_accuracy: 0.5652 - 20s/epoch - 2s/step\n",
      "Epoch 3/20\n",
      "11/11 - 19s - loss: 0.6889 - accuracy: 0.5745 - val_loss: 0.6839 - val_accuracy: 0.5963 - 19s/epoch - 2s/step\n",
      "Epoch 4/20\n",
      "11/11 - 14s - loss: 0.6838 - accuracy: 0.5745 - val_loss: 0.6757 - val_accuracy: 0.5963 - 14s/epoch - 1s/step\n",
      "Epoch 5/20\n",
      "11/11 - 14s - loss: 0.7055 - accuracy: 0.5699 - val_loss: 0.6769 - val_accuracy: 0.5901 - 14s/epoch - 1s/step\n",
      "Epoch 6/20\n",
      "11/11 - 14s - loss: 0.6820 - accuracy: 0.5761 - val_loss: 0.6784 - val_accuracy: 0.5901 - 14s/epoch - 1s/step\n",
      "Epoch 7/20\n",
      "11/11 - 14s - loss: 0.6804 - accuracy: 0.5761 - val_loss: 0.6774 - val_accuracy: 0.5901 - 14s/epoch - 1s/step\n",
      "Epoch 8/20\n",
      "11/11 - 14s - loss: 0.6816 - accuracy: 0.5761 - val_loss: 0.6790 - val_accuracy: 0.5839 - 14s/epoch - 1s/step\n",
      "Epoch 9/20\n",
      "11/11 - 14s - loss: 0.6829 - accuracy: 0.5714 - val_loss: 0.6801 - val_accuracy: 0.5839 - 14s/epoch - 1s/step\n",
      "Epoch 10/20\n",
      "11/11 - 14s - loss: 0.6770 - accuracy: 0.5792 - val_loss: 0.6789 - val_accuracy: 0.5839 - 14s/epoch - 1s/step\n",
      "Epoch 11/20\n",
      "11/11 - 14s - loss: 0.6713 - accuracy: 0.5792 - val_loss: 0.6763 - val_accuracy: 0.5901 - 14s/epoch - 1s/step\n",
      "Epoch 12/20\n",
      "11/11 - 14s - loss: 0.6695 - accuracy: 0.5823 - val_loss: 0.6721 - val_accuracy: 0.5963 - 14s/epoch - 1s/step\n",
      "Epoch 13/20\n",
      "11/11 - 14s - loss: 0.6514 - accuracy: 0.5807 - val_loss: 0.7392 - val_accuracy: 0.5963 - 14s/epoch - 1s/step\n",
      "Epoch 14/20\n",
      "11/11 - 15s - loss: 0.6270 - accuracy: 0.5885 - val_loss: 0.6879 - val_accuracy: 0.5901 - 15s/epoch - 1s/step\n",
      "Epoch 15/20\n",
      "11/11 - 14s - loss: 0.5871 - accuracy: 0.6211 - val_loss: 0.7100 - val_accuracy: 0.5839 - 14s/epoch - 1s/step\n",
      "Epoch 16/20\n",
      "11/11 - 14s - loss: 0.5695 - accuracy: 0.6351 - val_loss: 0.8513 - val_accuracy: 0.5963 - 14s/epoch - 1s/step\n",
      "Epoch 17/20\n",
      "11/11 - 14s - loss: 0.5831 - accuracy: 0.6009 - val_loss: 0.7351 - val_accuracy: 0.5901 - 14s/epoch - 1s/step\n",
      "Epoch 18/20\n",
      "11/11 - 14s - loss: 0.5523 - accuracy: 0.6366 - val_loss: 0.8843 - val_accuracy: 0.6087 - 14s/epoch - 1s/step\n",
      "Epoch 19/20\n",
      "11/11 - 14s - loss: 0.5244 - accuracy: 0.6630 - val_loss: 2.1778 - val_accuracy: 0.6398 - 14s/epoch - 1s/step\n",
      "Epoch 20/20\n",
      "11/11 - 14s - loss: 0.5675 - accuracy: 0.6506 - val_loss: 0.7415 - val_accuracy: 0.6335 - 14s/epoch - 1s/step\n",
      "\n",
      "\n",
      "Training time: 5477.969 sec\n",
      "\n",
      "Test score: 0.7415297031402588\n",
      "Test accuracy: 0.6335403919219971\n"
     ]
    }
   ],
   "source": [
    "# Train\n",
    "batch_size = 64\n",
    "epochs = 20\n",
    "\n",
    "start_time = time.process_time()\n",
    "        \n",
    "training = model.fit(X_train, Y_train, \n",
    "                     batch_size=batch_size, \n",
    "                     epochs=epochs, \n",
    "                     validation_data=(X_test,Y_test),\n",
    "                     verbose=2)\n",
    "    \n",
    "print('\\n\\nTraining time: {:.3f} sec\\n'.format(time.process_time() - start_time))\n",
    "\n",
    "score = model.evaluate(X_test, Y_test, verbose=0)\n",
    "\n",
    "print('Test score:', score[0])\n",
    "print('Test accuracy:', score[1])"
   ]
  },
  {
   "cell_type": "code",
   "execution_count": 133,
   "id": "f07716ac-9a71-400e-b904-0cf983716db3",
   "metadata": {},
   "outputs": [
    {
     "name": "stdout",
     "output_type": "stream",
     "text": [
      "Stored information: ['loss', 'accuracy', 'val_loss', 'val_accuracy']\n"
     ]
    },
    {
     "data": {
      "image/png": "[encoded data removed]",
      "text/plain": [
       "<Figure size 576x432 with 1 Axes>"
      ]
     },
     "metadata": {},
     "output_type": "display_data"
    },
    {
     "data": {
      "image/png": "[encoded data removed]",
      "text/plain": [
       "<Figure size 576x432 with 1 Axes>"
      ]
     },
     "metadata": {},
     "output_type": "display_data"
    }
   ],
   "source": [
    "def show_learning_curves(learning_evolution, title=''):\n",
    "\n",
    "    # list all data stored in the learning_evolution object\n",
    "    print('Stored information:', [h for h in learning_evolution.history.keys()])\n",
    "\n",
    "    # show evolution of accuracy\n",
    "    plt.plot(learning_evolution.history['accuracy'])\n",
    "\n",
    "    # show evolution of cross-validated accuracy\n",
    "    if 'val_accuracy' in learning_evolution.history:\n",
    "        plt.plot(learning_evolution.history['val_accuracy'])\n",
    "\n",
    "    plt.title(title + ' Model accuracy')\n",
    "    plt.ylabel('accuracy')\n",
    "    plt.xlabel('epoch')\n",
    "\n",
    "    plt.legend(['train', 'test'], loc='upper left')\n",
    "    plt.show()\n",
    "\n",
    "    # show evolution of loss\n",
    "    plt.plot(learning_evolution.history['loss'])\n",
    "    \n",
    "     # show evolution of cross-validated loss\n",
    "    if 'val_accuracy' in learning_evolution.history:\n",
    "        plt.plot(learning_evolution.history['val_loss'])\n",
    "\n",
    "    plt.title(title + ' Model loss')\n",
    "    plt.ylabel('loss')\n",
    "    plt.xlabel('epoch')\n",
    "    plt.legend(['train', 'test'], loc='upper left')\n",
    "    plt.show()\n",
    "    \n",
    "show_learning_curves(training, 'CNN')"
   ]
  },
  {
   "cell_type": "markdown",
   "id": "20b1fccd-bc9c-467b-a9c0-b8299d9c3ee2",
   "metadata": {},
   "source": [
    "The model seems to have needed more training time. It might be a good idea to increase the number of epochs."
   ]
  },
  {
   "cell_type": "code",
   "execution_count": 134,
   "id": "111c3a09-f985-4b3e-a12f-a93064989a65",
   "metadata": {},
   "outputs": [],
   "source": [
    "from keras.models import Model\n",
    "\n",
    "def display_activation(activations, activation_index, \n",
    "                       ncols = 5, \n",
    "                       size=(12, 12), reshape=None): \n",
    "    \n",
    "    activation = activations[activation_index]\n",
    "\n",
    "    print('Shape of layer: ', activation.shape)\n",
    "    \n",
    "    if len(activation.shape) > 2:\n",
    "        total_fmaps = activation.shape[-1] # the last axis of the array\n",
    "        nrows = int(np.ceil(total_fmaps / ncols))\n",
    "    else:\n",
    "        total_fmaps = 1\n",
    "        nrows,ncols = (1,1)\n",
    "\n",
    "    feature_map=0\n",
    "    \n",
    "    if (ncols, nrows) == (1,1):\n",
    "        plt.yticks([], [])\n",
    "        plt.xticks(fontsize=6)\n",
    "        if reshape == None:\n",
    "            plt.imshow(activation[0].reshape(-1,1).T) #cmap='gray')\n",
    "        else:\n",
    "            plt.imshow(activation[0].reshape(reshape).T)\n",
    "        return\n",
    "        \n",
    "    #fig, subplot = plt.subplots(nrows, ncols, figsize=size)\n",
    "    fig = plt.figure(figsize=size)\n",
    "    fig.subplots_adjust(hspace=0.23, wspace=0.22)\n",
    "    \n",
    "    for row in range(nrows):\n",
    "        for col in range(ncols):\n",
    "            subplot = fig.add_subplot(nrows, ncols, feature_map+1) \n",
    "            #subplot[row][col].imshow(activation[0, :, :, feature_map], \n",
    "            #                         cmap='gray')\n",
    "            #subplot[row][col].tick_params(labelsize = 3)\n",
    "            subplot.imshow(activation[0, :, :, feature_map])# cmap='gray')\n",
    "            subplot.tick_params(labelsize = 3)    \n",
    "            \n",
    "            feature_map += 1\n",
    "            if feature_map == total_fmaps:\n",
    "                return"
   ]
  },
  {
   "cell_type": "code",
   "execution_count": 135,
   "id": "9793a513-6aab-4e68-8dac-9fa5a2349a70",
   "metadata": {},
   "outputs": [
    {
     "name": "stdout",
     "output_type": "stream",
     "text": [
      "1/1 [==============================] - 0s 78ms/step\n",
      "Activation Layer [0]: conv2d (1, 94, 94, 128)\n",
      "Activation Layer [1]: conv2d (1, 90, 90, 64)\n",
      "Activation Layer [2]: conv2d (1, 88, 88, 64)\n",
      "Activation Layer [3]: max (1, 29, 29, 64)\n",
      "Activation Layer [4]: dropout (1, 29, 29, 64)\n",
      "Activation Layer [5]: flatten (1, 53824)\n",
      "Activation Layer [6]: dense (1, 256)\n",
      "Activation Layer [7]: dense (1, 128)\n",
      "Activation Layer [8]: dense (1, 128)\n",
      "Activation Layer [9]: dense (1, 128)\n",
      "Activation Layer [10]: dense (1, 64)\n",
      "Activation Layer [11]: dropout (1, 64)\n",
      "Activation Layer [12]: dense (1, 2)\n"
     ]
    }
   ],
   "source": [
    "layer_outputs = [layer.output for layer in model.layers]\n",
    "\n",
    "layer_names = [layer.name.split('_')[0] for layer in model.layers]\n",
    "\n",
    "#print(layer_outputs)\n",
    "\n",
    "activation_model = Model(inputs=model.input, outputs=layer_outputs)\n",
    "\n",
    "img_index = 9\n",
    "\n",
    "img_sample = X_train[img_index].reshape(1, *img_shape)\n",
    "\n",
    "activations = activation_model.predict(img_sample)\n",
    "\n",
    "for a,_ in enumerate(activations):\n",
    "    print('Activation Layer [{}]: {} {}'.format(a, layer_names[a],\n",
    "                                                activations[a].shape))"
   ]
  },
  {
   "cell_type": "code",
   "execution_count": 136,
   "id": "7445dea4-901c-429d-9f16-dc561391a2bc",
   "metadata": {},
   "outputs": [
    {
     "name": "stdout",
     "output_type": "stream",
     "text": [
      "Type of layer:  conv2d\n",
      "Shape of layer:  (1, 90, 90, 64)\n"
     ]
    },
    {
     "data": {
      "image/png": "[encoded data removed]",
      "text/plain": [
       "<Figure size 1080x1080 with 64 Axes>"
      ]
     },
     "metadata": {},
     "output_type": "display_data"
    }
   ],
   "source": [
    "print('Type of layer: ', layer_names[1])\n",
    "display_activation(activations, 1, 8)"
   ]
  },
  {
   "cell_type": "markdown",
   "id": "86e317a4-010b-4564-bcc9-b51fa2f93398",
   "metadata": {},
   "source": [
    "Many of these feature maps don't have anything... Maybe we can reduce the model?"
   ]
  },
  {
   "cell_type": "code",
   "execution_count": 357,
   "id": "50de0669-38ab-46a3-a3d9-8c01d0d20fe9",
   "metadata": {},
   "outputs": [
    {
     "name": "stdout",
     "output_type": "stream",
     "text": [
      "Model: \"sequential_85\"\n",
      "_________________________________________________________________\n",
      " Layer (type)                Output Shape              Param #   \n",
      "=================================================================\n",
      " conv2d_347 (Conv2D)         (None, 94, 94, 128)       18944     \n",
      "                                                                 \n",
      " dropout_295 (Dropout)       (None, 94, 94, 128)       0         \n",
      "                                                                 \n",
      " conv2d_348 (Conv2D)         (None, 90, 90, 64)        204864    \n",
      "                                                                 \n",
      " dropout_296 (Dropout)       (None, 90, 90, 64)        0         \n",
      "                                                                 \n",
      " conv2d_349 (Conv2D)         (None, 88, 88, 32)        18464     \n",
      "                                                                 \n",
      " dropout_297 (Dropout)       (None, 88, 88, 32)        0         \n",
      "                                                                 \n",
      " max_pooling2d_123 (MaxPooli  (None, 44, 44, 32)       0         \n",
      " ng2D)                                                           \n",
      "                                                                 \n",
      " conv2d_350 (Conv2D)         (None, 38, 38, 32)        50208     \n",
      "                                                                 \n",
      " dropout_298 (Dropout)       (None, 38, 38, 32)        0         \n",
      "                                                                 \n",
      " conv2d_351 (Conv2D)         (None, 34, 34, 16)        12816     \n",
      "                                                                 \n",
      " dropout_299 (Dropout)       (None, 34, 34, 16)        0         \n",
      "                                                                 \n",
      " conv2d_352 (Conv2D)         (None, 32, 32, 16)        2320      \n",
      "                                                                 \n",
      " dropout_300 (Dropout)       (None, 32, 32, 16)        0         \n",
      "                                                                 \n",
      " max_pooling2d_124 (MaxPooli  (None, 16, 16, 16)       0         \n",
      " ng2D)                                                           \n",
      "                                                                 \n",
      " flatten_81 (Flatten)        (None, 4096)              0         \n",
      "                                                                 \n",
      " dense_330 (Dense)           (None, 64)                262208    \n",
      "                                                                 \n",
      " dense_331 (Dense)           (None, 2)                 130       \n",
      "                                                                 \n",
      "=================================================================\n",
      "Total params: 569,954\n",
      "Trainable params: 569,954\n",
      "Non-trainable params: 0\n",
      "_________________________________________________________________\n"
     ]
    }
   ],
   "source": [
    "model = Sequential()\n",
    "\n",
    "# input + convolutional layer\n",
    "model.add(Conv2D(128,kernel_size=(7,7),input_shape=(100,100,3),activation='relu'))\n",
    "model.add(Dropout(0.2))\n",
    "model.add(Conv2D(64, kernel_size=(5,5), activation='relu'))\n",
    "model.add(Dropout(0.2))\n",
    "model.add(Conv2D(32, kernel_size=(3,3), activation='relu'))\n",
    "model.add(Dropout(0.2))\n",
    "model.add(MaxPooling2D(pool_size=(2,2)))\n",
    "\n",
    "model.add(Conv2D(32, kernel_size=(7,7), activation='relu'))\n",
    "model.add(Dropout(0.2))\n",
    "model.add(Conv2D(16, kernel_size=(5,5), activation='relu'))\n",
    "model.add(Dropout(0.2))\n",
    "model.add(Conv2D(16, kernel_size=(3,3), activation='relu'))\n",
    "model.add(Dropout(0.2))\n",
    "model.add(MaxPooling2D(pool_size=(2,2)))\n",
    "\n",
    "# flatten + dense + output layers\n",
    "model.add(Flatten())\n",
    "model.add(Dense(64, activation='relu'))\n",
    "model.add(Dense(2, activation='softmax'))\n",
    "model.summary()"
   ]
  },
  {
   "cell_type": "markdown",
   "id": "5a10b65a-b13a-456f-ab22-e7526ee7efcc",
   "metadata": {},
   "source": [
    "Much fewer parameters! Let's see how it performs."
   ]
  },
  {
   "cell_type": "code",
   "execution_count": 358,
   "id": "80e7c48f-9195-4bf7-aa53-21d1506dfde9",
   "metadata": {},
   "outputs": [],
   "source": [
    "adam = tf.keras.optimizers.Adam(learning_rate=0.0005)\n",
    "model.compile(loss='categorical_crossentropy', \n",
    "              optimizer=adam, metrics=['accuracy'])"
   ]
  },
  {
   "cell_type": "code",
   "execution_count": 359,
   "id": "3b52a229-1e3a-4e7f-9487-cc02a45d1aa4",
   "metadata": {},
   "outputs": [
    {
     "name": "stdout",
     "output_type": "stream",
     "text": [
      "Epoch 1/50\n",
      "21/21 - 16s - loss: 11.5805 - accuracy: 0.4907 - val_loss: 0.6843 - val_accuracy: 0.6273 - 16s/epoch - 752ms/step\n",
      "Epoch 2/50\n",
      "21/21 - 16s - loss: 0.7973 - accuracy: 0.4922 - val_loss: 0.6818 - val_accuracy: 0.6087 - 16s/epoch - 739ms/step\n",
      "Epoch 3/50\n",
      "21/21 - 16s - loss: 0.7170 - accuracy: 0.5683 - val_loss: 0.6696 - val_accuracy: 0.6398 - 16s/epoch - 754ms/step\n",
      "Epoch 4/50\n",
      "21/21 - 16s - loss: 0.7072 - accuracy: 0.5839 - val_loss: 0.6679 - val_accuracy: 0.6584 - 16s/epoch - 747ms/step\n",
      "Epoch 5/50\n",
      "21/21 - 16s - loss: 0.6754 - accuracy: 0.5963 - val_loss: 0.6755 - val_accuracy: 0.6025 - 16s/epoch - 747ms/step\n",
      "Epoch 6/50\n",
      "21/21 - 16s - loss: 0.6770 - accuracy: 0.5978 - val_loss: 0.6712 - val_accuracy: 0.6211 - 16s/epoch - 741ms/step\n",
      "Epoch 7/50\n",
      "21/21 - 16s - loss: 0.6715 - accuracy: 0.6320 - val_loss: 0.6660 - val_accuracy: 0.6211 - 16s/epoch - 755ms/step\n",
      "Epoch 8/50\n",
      "21/21 - 16s - loss: 0.6490 - accuracy: 0.6227 - val_loss: 0.6647 - val_accuracy: 0.6398 - 16s/epoch - 747ms/step\n",
      "Epoch 9/50\n",
      "21/21 - 16s - loss: 0.6416 - accuracy: 0.6444 - val_loss: 0.6572 - val_accuracy: 0.5963 - 16s/epoch - 748ms/step\n",
      "Epoch 10/50\n",
      "21/21 - 16s - loss: 0.6264 - accuracy: 0.6537 - val_loss: 0.6509 - val_accuracy: 0.6149 - 16s/epoch - 751ms/step\n",
      "Epoch 11/50\n",
      "21/21 - 16s - loss: 0.6373 - accuracy: 0.6413 - val_loss: 0.6615 - val_accuracy: 0.5963 - 16s/epoch - 751ms/step\n",
      "Epoch 12/50\n",
      "21/21 - 16s - loss: 0.6030 - accuracy: 0.6786 - val_loss: 0.6277 - val_accuracy: 0.6522 - 16s/epoch - 745ms/step\n",
      "Epoch 13/50\n",
      "21/21 - 16s - loss: 0.6453 - accuracy: 0.6429 - val_loss: 0.6559 - val_accuracy: 0.6087 - 16s/epoch - 750ms/step\n",
      "Epoch 14/50\n",
      "21/21 - 16s - loss: 0.6135 - accuracy: 0.6553 - val_loss: 0.6435 - val_accuracy: 0.6398 - 16s/epoch - 742ms/step\n",
      "Epoch 15/50\n",
      "21/21 - 16s - loss: 0.6507 - accuracy: 0.6087 - val_loss: 0.6492 - val_accuracy: 0.6273 - 16s/epoch - 753ms/step\n",
      "Epoch 16/50\n",
      "21/21 - 16s - loss: 0.6452 - accuracy: 0.6335 - val_loss: 0.6545 - val_accuracy: 0.6211 - 16s/epoch - 750ms/step\n",
      "Epoch 17/50\n",
      "21/21 - 16s - loss: 0.5832 - accuracy: 0.6879 - val_loss: 0.6917 - val_accuracy: 0.6025 - 16s/epoch - 751ms/step\n",
      "Epoch 18/50\n",
      "21/21 - 16s - loss: 0.6892 - accuracy: 0.6413 - val_loss: 0.6538 - val_accuracy: 0.6025 - 16s/epoch - 747ms/step\n",
      "Epoch 19/50\n",
      "21/21 - 16s - loss: 0.6391 - accuracy: 0.6568 - val_loss: 0.6571 - val_accuracy: 0.6087 - 16s/epoch - 758ms/step\n",
      "Epoch 20/50\n",
      "21/21 - 16s - loss: 0.6041 - accuracy: 0.6615 - val_loss: 0.6341 - val_accuracy: 0.6025 - 16s/epoch - 749ms/step\n",
      "Epoch 21/50\n",
      "21/21 - 16s - loss: 0.5691 - accuracy: 0.6755 - val_loss: 0.6277 - val_accuracy: 0.6025 - 16s/epoch - 777ms/step\n",
      "Epoch 22/50\n",
      "21/21 - 16s - loss: 0.5777 - accuracy: 0.6863 - val_loss: 0.6263 - val_accuracy: 0.6460 - 16s/epoch - 764ms/step\n",
      "Epoch 23/50\n",
      "21/21 - 16s - loss: 0.5616 - accuracy: 0.7081 - val_loss: 0.5826 - val_accuracy: 0.6335 - 16s/epoch - 747ms/step\n",
      "Epoch 24/50\n",
      "21/21 - 16s - loss: 0.5539 - accuracy: 0.7050 - val_loss: 0.5941 - val_accuracy: 0.6335 - 16s/epoch - 751ms/step\n",
      "Epoch 25/50\n",
      "21/21 - 16s - loss: 0.5585 - accuracy: 0.7500 - val_loss: 0.6371 - val_accuracy: 0.5963 - 16s/epoch - 748ms/step\n",
      "Epoch 26/50\n",
      "21/21 - 16s - loss: 0.5064 - accuracy: 0.7453 - val_loss: 0.5900 - val_accuracy: 0.6770 - 16s/epoch - 758ms/step\n",
      "Epoch 27/50\n",
      "21/21 - 16s - loss: 0.5116 - accuracy: 0.7391 - val_loss: 0.5814 - val_accuracy: 0.6832 - 16s/epoch - 745ms/step\n",
      "Epoch 28/50\n",
      "21/21 - 16s - loss: 0.4659 - accuracy: 0.7609 - val_loss: 0.6272 - val_accuracy: 0.6584 - 16s/epoch - 742ms/step\n",
      "Epoch 29/50\n",
      "21/21 - 16s - loss: 0.5259 - accuracy: 0.7360 - val_loss: 0.5490 - val_accuracy: 0.6832 - 16s/epoch - 746ms/step\n",
      "Epoch 30/50\n",
      "21/21 - 16s - loss: 0.4758 - accuracy: 0.7702 - val_loss: 0.5421 - val_accuracy: 0.7019 - 16s/epoch - 749ms/step\n",
      "Epoch 31/50\n",
      "21/21 - 16s - loss: 0.4239 - accuracy: 0.7873 - val_loss: 0.5602 - val_accuracy: 0.6957 - 16s/epoch - 742ms/step\n",
      "Epoch 32/50\n",
      "21/21 - 16s - loss: 0.3873 - accuracy: 0.7857 - val_loss: 0.6235 - val_accuracy: 0.6708 - 16s/epoch - 749ms/step\n",
      "Epoch 33/50\n",
      "21/21 - 16s - loss: 0.4003 - accuracy: 0.7780 - val_loss: 0.5872 - val_accuracy: 0.7267 - 16s/epoch - 742ms/step\n",
      "Epoch 34/50\n",
      "21/21 - 16s - loss: 0.3681 - accuracy: 0.8043 - val_loss: 0.6274 - val_accuracy: 0.6957 - 16s/epoch - 747ms/step\n",
      "Epoch 35/50\n",
      "21/21 - 16s - loss: 0.3512 - accuracy: 0.8292 - val_loss: 0.6185 - val_accuracy: 0.6522 - 16s/epoch - 743ms/step\n",
      "Epoch 36/50\n",
      "21/21 - 16s - loss: 0.3842 - accuracy: 0.8059 - val_loss: 0.5662 - val_accuracy: 0.7329 - 16s/epoch - 745ms/step\n",
      "Epoch 37/50\n",
      "21/21 - 16s - loss: 0.3715 - accuracy: 0.8106 - val_loss: 0.6782 - val_accuracy: 0.6832 - 16s/epoch - 746ms/step\n",
      "Epoch 38/50\n",
      "21/21 - 16s - loss: 0.3418 - accuracy: 0.8261 - val_loss: 0.6930 - val_accuracy: 0.6584 - 16s/epoch - 744ms/step\n",
      "Epoch 39/50\n",
      "21/21 - 16s - loss: 0.3546 - accuracy: 0.8307 - val_loss: 0.7460 - val_accuracy: 0.6584 - 16s/epoch - 743ms/step\n",
      "Epoch 40/50\n",
      "21/21 - 16s - loss: 0.3193 - accuracy: 0.8339 - val_loss: 0.7596 - val_accuracy: 0.6957 - 16s/epoch - 744ms/step\n",
      "Epoch 41/50\n",
      "21/21 - 16s - loss: 0.2700 - accuracy: 0.8680 - val_loss: 0.9553 - val_accuracy: 0.6708 - 16s/epoch - 747ms/step\n",
      "Epoch 42/50\n",
      "21/21 - 16s - loss: 0.4999 - accuracy: 0.7655 - val_loss: 0.6841 - val_accuracy: 0.6460 - 16s/epoch - 742ms/step\n",
      "Epoch 43/50\n",
      "21/21 - 16s - loss: 0.3984 - accuracy: 0.7997 - val_loss: 0.5775 - val_accuracy: 0.7081 - 16s/epoch - 746ms/step\n",
      "Epoch 44/50\n",
      "21/21 - 16s - loss: 0.3138 - accuracy: 0.8385 - val_loss: 0.5805 - val_accuracy: 0.7205 - 16s/epoch - 753ms/step\n",
      "Epoch 45/50\n",
      "21/21 - 16s - loss: 0.2634 - accuracy: 0.8665 - val_loss: 0.6384 - val_accuracy: 0.7143 - 16s/epoch - 753ms/step\n",
      "Epoch 46/50\n",
      "21/21 - 16s - loss: 0.2396 - accuracy: 0.8758 - val_loss: 0.7045 - val_accuracy: 0.6894 - 16s/epoch - 747ms/step\n",
      "Epoch 47/50\n",
      "21/21 - 16s - loss: 0.2257 - accuracy: 0.8944 - val_loss: 0.8371 - val_accuracy: 0.7019 - 16s/epoch - 767ms/step\n",
      "Epoch 48/50\n",
      "21/21 - 16s - loss: 0.2460 - accuracy: 0.8913 - val_loss: 0.6724 - val_accuracy: 0.7019 - 16s/epoch - 756ms/step\n",
      "Epoch 49/50\n",
      "21/21 - 16s - loss: 0.2096 - accuracy: 0.8882 - val_loss: 1.2223 - val_accuracy: 0.7081 - 16s/epoch - 751ms/step\n",
      "Epoch 50/50\n",
      "21/21 - 16s - loss: 0.2503 - accuracy: 0.8991 - val_loss: 0.5224 - val_accuracy: 0.7578 - 16s/epoch - 743ms/step\n",
      "\n",
      "\n",
      "Training time: 14056.797 sec\n",
      "\n",
      "Test score: 0.5224094986915588\n",
      "Test accuracy: 0.7577639818191528\n"
     ]
    }
   ],
   "source": [
    "from numpy.random import seed\n",
    "seed(15288)\n",
    "# Train\n",
    "batch_size = 32\n",
    "epochs = 50\n",
    "\n",
    "start_time = time.process_time()\n",
    "        \n",
    "training = model.fit(X_train, Y_train, \n",
    "                     batch_size=batch_size, \n",
    "                     epochs=epochs, \n",
    "                     validation_data=(X_test,Y_test),\n",
    "                     verbose=2)\n",
    "    \n",
    "print('\\n\\nTraining time: {:.3f} sec\\n'.format(time.process_time() - start_time))\n",
    "\n",
    "score = model.evaluate(X_test, Y_test, verbose=0) \n",
    "\n",
    "print('Test score:', score[0])\n",
    "print('Test accuracy:', score[1])"
   ]
  },
  {
   "cell_type": "markdown",
   "id": "bd07f925-0e22-4ecc-ac47-1c41db900b6e",
   "metadata": {},
   "source": [
    "Wow! Testing accuracy is over 75%! CNN is magic indeed!"
   ]
  },
  {
   "cell_type": "code",
   "execution_count": 360,
   "id": "fd8b934f-8399-4d12-82cc-6f223b3a955e",
   "metadata": {},
   "outputs": [
    {
     "name": "stdout",
     "output_type": "stream",
     "text": [
      "Stored information: ['loss', 'accuracy', 'val_loss', 'val_accuracy']\n"
     ]
    },
    {
     "data": {
      "image/png": "[encoded data removed]",
      "text/plain": [
       "<Figure size 576x432 with 1 Axes>"
      ]
     },
     "metadata": {},
     "output_type": "display_data"
    },
    {
     "data": {
      "image/png": "[encoded data removed]",
      "text/plain": [
       "<Figure size 576x432 with 1 Axes>"
      ]
     },
     "metadata": {},
     "output_type": "display_data"
    }
   ],
   "source": [
    "show_learning_curves(training, 'CNN')"
   ]
  },
  {
   "cell_type": "markdown",
   "id": "0cbce19b-a95b-40dd-9dbd-d9d34fff0c53",
   "metadata": {},
   "source": [
    "The training curves look a bit stepwise? After 10 epochs, both training and testing accuracy begins to stablize, but the testing error starts to increase. There might be an overfitting happening. However, it is reasonable to say that CNN performed around 10% better than random forest."
   ]
  },
  {
   "cell_type": "markdown",
   "id": "ce68bfb2-ce56-41d7-8d22-e5849ff018df",
   "metadata": {},
   "source": [
    "Let's see its performance on training data!"
   ]
  },
  {
   "cell_type": "code",
   "execution_count": 361,
   "id": "5aa8d575-e213-42ff-b413-39c3d6827d02",
   "metadata": {},
   "outputs": [
    {
     "name": "stdout",
     "output_type": "stream",
     "text": [
      "21/21 [==============================] - 3s 134ms/step\n"
     ]
    },
    {
     "data": {
      "image/png": "[encoded data removed]",
      "text/plain": [
       "<Figure size 1260x450 with 2 Axes>"
      ]
     },
     "metadata": {},
     "output_type": "display_data"
    }
   ],
   "source": [
    "from sklearn.metrics import confusion_matrix\n",
    "import seaborn as sns\n",
    "\n",
    "Y_prediction = model.predict(X_train)\n",
    "\n",
    "# Convert predictions classes to one hot vectors \n",
    "Y_pred_classes = np.argmax(Y_prediction, axis = 1)\n",
    "\n",
    "# Convert test data to one hot vectors\n",
    "Y_true = np.argmax(Y_train, axis = 1) \n",
    "\n",
    "show_confusion_matrix(Y_true, Y_pred_classes, [0, 1])"
   ]
  },
  {
   "cell_type": "markdown",
   "id": "90b33c70-6d98-463e-9a36-993afc1314a7",
   "metadata": {},
   "source": [
    "How about for testing data?"
   ]
  },
  {
   "cell_type": "code",
   "execution_count": 362,
   "id": "c6a20910-713c-4fd2-949a-b533a2ca9795",
   "metadata": {},
   "outputs": [
    {
     "name": "stdout",
     "output_type": "stream",
     "text": [
      "6/6 [==============================] - 1s 116ms/step\n"
     ]
    },
    {
     "data": {
      "image/png": "[encoded data removed]",
      "text/plain": [
       "<Figure size 1260x450 with 2 Axes>"
      ]
     },
     "metadata": {},
     "output_type": "display_data"
    }
   ],
   "source": [
    "from sklearn.metrics import confusion_matrix\n",
    "import seaborn as sns\n",
    "\n",
    "Y_prediction = model.predict(X_test)\n",
    "\n",
    "# Convert predictions classes to one hot vectors \n",
    "Y_pred_classes = np.argmax(Y_prediction, axis = 1)\n",
    "\n",
    "# Convert test data to one hot vectors\n",
    "Y_true = np.argmax(Y_test, axis = 1) \n",
    "\n",
    "show_confusion_matrix(Y_true, Y_pred_classes, [0, 1])"
   ]
  },
  {
   "cell_type": "markdown",
   "id": "b56501ac-0122-4dd5-8681-156a00d18756",
   "metadata": {},
   "source": [
    "Not bad! We see that it rarely misclassify negative images as positive images, but sometimes misclassify positive images as negative ones."
   ]
  },
  {
   "cell_type": "markdown",
   "id": "9cb75d99-e8bb-46ac-be4b-db8827c4b168",
   "metadata": {},
   "source": [
    "### Final words"
   ]
  },
  {
   "cell_type": "markdown",
   "id": "650c7e4d-8ebe-4af2-affa-246e653f1fff",
   "metadata": {},
   "source": [
    "Id| Model         | Parameters| Training accuracy | Testing accuracy\n",
    "--|:-------------:|:-----------:|:-----------:|:-----------:\n",
    "1 |kNN            | neighbors=5, weights='distance'| 0.740 | 0.629\n",
    "2 |Random Forest  | max_depth=7, criterion='gini', n_estimators = 21  | 0.894 | 0.647\n",
    "3 |CNN            | (see model summary above, epoch 49) | 0.899 | 0.758"
   ]
  },
  {
   "cell_type": "markdown",
   "id": "22d3797f-dead-43e5-ac86-52d70fec69dc",
   "metadata": {},
   "source": [
    "Clearly, CNN is the most optimal model for our task. Let's use it in the app!"
   ]
  },
  {
   "cell_type": "code",
   "execution_count": null,
   "id": "01adbec6-d4a0-42f7-b118-94601ad3d047",
   "metadata": {},
   "outputs": [],
   "source": []
  }
 ],
 "metadata": {
  "kernelspec": {
   "display_name": "Python 3 (ipykernel)",
   "language": "python",
   "name": "python3"
  },
  "language_info": {
   "codemirror_mode": {
    "name": "ipython",
    "version": 3
   },
   "file_extension": ".py",
   "mimetype": "text/x-python",
   "name": "python",
   "nbconvert_exporter": "python",
   "pygments_lexer": "ipython3",
   "version": "3.9.16"
  }
 },
 "nbformat": 4,
 "nbformat_minor": 5
}
